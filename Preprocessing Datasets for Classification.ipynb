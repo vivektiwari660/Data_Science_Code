{
 "cells": [
  {
   "cell_type": "code",
   "execution_count": 2,
   "metadata": {},
   "outputs": [],
   "source": [
    "# Preprocessing Datasets for Classification\n",
    "#   1. Loding and Scaling the Data"
   ]
  },
  {
   "cell_type": "code",
   "execution_count": 3,
   "metadata": {},
   "outputs": [],
   "source": [
    "import warnings\n",
    "warnings.filterwarnings('ignore')"
   ]
  },
  {
   "cell_type": "code",
   "execution_count": 5,
   "metadata": {},
   "outputs": [],
   "source": [
    "import pandas as pd\n",
    "vehicle = pd.read_html('https://archive.ics.uci.edu/ml/datasets/Statlog+%28Vehicle+Silhouettes%29')"
   ]
  },
  {
   "cell_type": "code",
   "execution_count": 7,
   "metadata": {},
   "outputs": [
    {
     "name": "stdout",
     "output_type": "stream",
     "text": [
      "[                                                   0  \\\n",
      "0  Center for Machine Learning and Intelligent Sy...   \n",
      "\n",
      "                                                   1  \n",
      "0  About Citation Policy Donate a Data Set Contac...  ,                                                   0   \\\n",
      "0  Statlog (Vehicle Silhouettes) Data Set \\tDownl...   \n",
      "1  Statlog (Vehicle Silhouettes) Data Set \\tDownl...   \n",
      "2                          Data Set Characteristics:   \n",
      "3                         Attribute Characteristics:   \n",
      "4                                  Associated Tasks:   \n",
      "\n",
      "                                                  1                      2   \\\n",
      "0  Statlog (Vehicle Silhouettes) Data Set \\tDownl...                    NaN   \n",
      "1                                                NaN                    NaN   \n",
      "2                                       Multivariate   Number of Instances:   \n",
      "3                                            Integer  Number of Attributes:   \n",
      "4                                     Classification        Missing Values?   \n",
      "\n",
      "                          3                    4                     5   \\\n",
      "0  Data Set Characteristics:         Multivariate  Number of Instances:   \n",
      "1                        NaN                  NaN                   NaN   \n",
      "2                        946                Area:                   NaN   \n",
      "3                         18         Date Donated                   NaN   \n",
      "4                        NaN  Number of Web Hits:                101214   \n",
      "\n",
      "      6      7   8                           9     ...     \\\n",
      "0  946.0  Area: NaN  Attribute Characteristics:    ...      \n",
      "1    NaN    NaN NaN                         NaN    ...      \n",
      "2    NaN    NaN NaN                         NaN    ...      \n",
      "3    NaN    NaN NaN                         NaN    ...      \n",
      "4    NaN    NaN NaN                         NaN    ...      \n",
      "\n",
      "                      11    12            13  14                 15  \\\n",
      "0  Number of Attributes:  18.0  Date Donated NaN  Associated Tasks:   \n",
      "1                    NaN   NaN           NaN NaN                NaN   \n",
      "2                    NaN   NaN           NaN NaN                NaN   \n",
      "3                    NaN   NaN           NaN NaN                NaN   \n",
      "4                    NaN   NaN           NaN NaN                NaN   \n",
      "\n",
      "               16               17  18                   19        20  \n",
      "0  Classification  Missing Values? NaN  Number of Web Hits:  101214.0  \n",
      "1             NaN              NaN NaN                  NaN       NaN  \n",
      "2             NaN              NaN NaN                  NaN       NaN  \n",
      "3             NaN              NaN NaN                  NaN       NaN  \n",
      "4             NaN              NaN NaN                  NaN       NaN  \n",
      "\n",
      "[5 rows x 21 columns],                                                    0   1\n",
      "0  Statlog (Vehicle Silhouettes) Data Set \\tDownl... NaN,                             0               1                      2      3  \\\n",
      "0   Data Set Characteristics:    Multivariate   Number of Instances:  946.0   \n",
      "1  Attribute Characteristics:         Integer  Number of Attributes:   18.0   \n",
      "2           Associated Tasks:  Classification        Missing Values?    NaN   \n",
      "\n",
      "                     4         5  \n",
      "0                Area:       NaN  \n",
      "1         Date Donated       NaN  \n",
      "2  Number of Web Hits:  101214.0  ,                0   1                       2   3\n",
      "0  Supported By: NaN  In Collaboration With: NaN]\n"
     ]
    }
   ],
   "source": [
    "print(vehicle)"
   ]
  },
  {
   "cell_type": "code",
   "execution_count": 8,
   "metadata": {},
   "outputs": [
    {
     "name": "stdout",
     "output_type": "stream",
     "text": [
      "[[0.6 0.8]]\n"
     ]
    }
   ],
   "source": [
    "from sklearn.preprocessing import Normalizer\n",
    "print (Normalizer().fit_transform([[3, 4]]))"
   ]
  },
  {
   "cell_type": "code",
   "execution_count": null,
   "metadata": {},
   "outputs": [],
   "source": []
  }
 ],
 "metadata": {
  "kernelspec": {
   "display_name": "Python 3",
   "language": "python",
   "name": "python3"
  },
  "language_info": {
   "codemirror_mode": {
    "name": "ipython",
    "version": 3
   },
   "file_extension": ".py",
   "mimetype": "text/x-python",
   "name": "python",
   "nbconvert_exporter": "python",
   "pygments_lexer": "ipython3",
   "version": "3.6.4"
  }
 },
 "nbformat": 4,
 "nbformat_minor": 2
}
