{
 "cells": [
  {
   "cell_type": "code",
   "execution_count": 1,
   "metadata": {},
   "outputs": [
    {
     "name": "stdout",
     "output_type": "stream",
     "text": [
      "p\n",
      "y\n",
      "p\n",
      "y\n",
      "p\n",
      "y\n"
     ]
    }
   ],
   "source": [
    "s = \"python\"\n",
    "for idx in range(len(s)):\n",
    "   print(s[idx % 2])"
   ]
  },
  {
   "cell_type": "code",
   "execution_count": 1,
   "metadata": {},
   "outputs": [
    {
     "ename": "SyntaxError",
     "evalue": "invalid syntax (<ipython-input-1-6c73859a8e4a>, line 6)",
     "output_type": "error",
     "traceback": [
      "\u001b[1;36m  File \u001b[1;32m\"<ipython-input-1-6c73859a8e4a>\"\u001b[1;36m, line \u001b[1;32m6\u001b[0m\n\u001b[1;33m    else:\u001b[0m\n\u001b[1;37m       ^\u001b[0m\n\u001b[1;31mSyntaxError\u001b[0m\u001b[1;31m:\u001b[0m invalid syntax\n"
     ]
    }
   ],
   "source": [
    "x = -10\n",
    "if x < 0:\n",
    "    print(\"The negative number \",  x, \" is not valid here.\")\n",
    "else:\n",
    "    print(x, \" is a positive number\")\n",
    "else:\n",
    "    print(\"This is always printed\")"
   ]
  },
  {
   "cell_type": "code",
   "execution_count": 2,
   "metadata": {},
   "outputs": [
    {
     "name": "stdout",
     "output_type": "stream",
     "text": [
      "The negative number  -10  is not valid here.\n"
     ]
    }
   ],
   "source": [
    "x = -10\n",
    "if x < 0:\n",
    "    print(\"The negative number \",  x, \" is not valid here.\")\n",
    "else:\n",
    "    if x > 0:\n",
    "        print(x, \" is a positive number\")\n",
    "    else:\n",
    "        print(x,\" is 0\")"
   ]
  },
  {
   "cell_type": "code",
   "execution_count": 3,
   "metadata": {},
   "outputs": [
    {
     "name": "stdout",
     "output_type": "stream",
     "text": [
      "The negative number  -10  is not valid here.\n"
     ]
    }
   ],
   "source": [
    "# nested if-else statement\n",
    "x = -10\n",
    "if x < 0:\n",
    "    print(\"The negative number \",  x, \" is not valid here.\")\n",
    "else:\n",
    "    if x > 0:\n",
    "        print(x, \" is a positive number\")\n",
    "    else:\n",
    "        print(x, \" is 0\")"
   ]
  },
  {
   "cell_type": "code",
   "execution_count": 4,
   "metadata": {},
   "outputs": [
    {
     "ename": "SyntaxError",
     "evalue": "invalid syntax (<ipython-input-4-c85153dfc37b>, line 3)",
     "output_type": "error",
     "traceback": [
      "\u001b[1;36m  File \u001b[1;32m\"<ipython-input-4-c85153dfc37b>\"\u001b[1;36m, line \u001b[1;32m3\u001b[0m\n\u001b[1;33m    else (x > 0):\u001b[0m\n\u001b[1;37m         ^\u001b[0m\n\u001b[1;31mSyntaxError\u001b[0m\u001b[1;31m:\u001b[0m invalid syntax\n"
     ]
    }
   ],
   "source": [
    "if x < 0:\n",
    "    print(\"The negative number \",  x, \" is not valid here.\")\n",
    "else (x > 0):\n",
    "    print(x, \" is a positive number\")\n",
    "else:\n",
    "    print(x, \" is 0\")"
   ]
  },
  {
   "cell_type": "code",
   "execution_count": 5,
   "metadata": {},
   "outputs": [
    {
     "name": "stdout",
     "output_type": "stream",
     "text": [
      "The negative number  -10  is not valid here.\n"
     ]
    }
   ],
   "source": [
    "if x < 0:\n",
    "    print(\"The negative number \",  x, \" is not valid here.\")\n",
    "elif (x > 0):\n",
    "    print(x, \" is a positive number\")\n",
    "else:\n",
    "    print(x, \" is 0\")"
   ]
  },
  {
   "cell_type": "code",
   "execution_count": 6,
   "metadata": {},
   "outputs": [
    {
     "name": "stdout",
     "output_type": "stream",
     "text": [
      "The negative number  -10  is not valid here.\n",
      "-10  is 0\n"
     ]
    }
   ],
   "source": [
    "if x < 0:\n",
    "    print(\"The negative number \",  x, \" is not valid here.\")\n",
    "if (x > 0):\n",
    "    print(x, \" is a positive number\")\n",
    "else:\n",
    "    print(x, \" is 0\")"
   ]
  },
  {
   "cell_type": "code",
   "execution_count": 9,
   "metadata": {},
   "outputs": [
    {
     "name": "stdout",
     "output_type": "stream",
     "text": [
      "c\n"
     ]
    }
   ],
   "source": [
    "x = 3\n",
    "y = 5\n",
    "z = 2\n",
    "if x < y and x < z:\n",
    "    print(\"a\")\n",
    "elif y < x and y < z:\n",
    "    print(\"b\")\n",
    "else:\n",
    "    print(\"c\")"
   ]
  },
  {
   "cell_type": "code",
   "execution_count": 10,
   "metadata": {},
   "outputs": [
    {
     "name": "stdout",
     "output_type": "stream",
     "text": [
      "5\n"
     ]
    }
   ],
   "source": [
    "s = \"We are learning!\"\n",
    "x = 0\n",
    "for i in s:\n",
    "    if i in ['a', 'b', 'c', 'd', 'e']:\n",
    "        x += 1\n",
    "print(x)"
   ]
  },
  {
   "cell_type": "code",
   "execution_count": 11,
   "metadata": {},
   "outputs": [
    {
     "name": "stdout",
     "output_type": "stream",
     "text": [
      "0\n"
     ]
    }
   ],
   "source": [
    "list= [5, 2, 1, 4, 9, 10]\n",
    "min_value = 0\n",
    "for item in list:\n",
    "   if item < min_value:\n",
    "       min_value = item\n",
    "print(min_value)"
   ]
  },
  {
   "cell_type": "code",
   "execution_count": 13,
   "metadata": {},
   "outputs": [
    {
     "name": "stdout",
     "output_type": "stream",
     "text": [
      "32\n"
     ]
    }
   ],
   "source": [
    "s = \"singing in the rain and playing in the rain are two entirely different situations but both can be fun\"\n",
    "vowels = ['a','e','i','o','u']\n",
    "\n",
    "# Write your code here.\n",
    "\n",
    "num_vowels = sum([1 for i in s if i in vowels])\n",
    "print(num_vowels)\n"
   ]
  },
  {
   "cell_type": "code",
   "execution_count": 30,
   "metadata": {},
   "outputs": [
    {
     "name": "stdout",
     "output_type": "stream",
     "text": [
      "1\n",
      "Not Equal\n",
      "Not Equal\n",
      "Not Equal\n",
      "Not Equal\n",
      "Not Equal\n",
      "2\n",
      "Not Equal\n",
      "Not Equal\n",
      "Not Equal\n",
      "Not Equal\n",
      "Not Equal\n",
      "Not Equal\n",
      "Not Equal\n",
      "Not Equal\n",
      "Not Equal\n"
     ]
    }
   ],
   "source": [
    "sentence1 = \"students flock to the arb for a variety of outdoor activities such as jogging and picnicking\"\n",
    "sentence = sentence1.split()\n",
    "same_letter_count = 0\n",
    "for sen in sentence:\n",
    "    #print(sen)\n",
    "    if(sen[0] == sen[-1]):\n",
    "        same_letter_count += 1\n",
    "        print(same_letter_count) \n",
    "    else: \n",
    "        print(\"Not Equal\") \n",
    "  "
   ]
  },
  {
   "cell_type": "code",
   "execution_count": 31,
   "metadata": {},
   "outputs": [
    {
     "name": "stdout",
     "output_type": "stream",
     "text": [
      "[4, 2, True, 6, 5]\n"
     ]
    }
   ],
   "source": [
    "alist = [4,2,8,6,5]\n",
    "alist[2] = True\n",
    "print(alist)"
   ]
  },
  {
   "cell_type": "code",
   "execution_count": 32,
   "metadata": {},
   "outputs": [
    {
     "ename": "TypeError",
     "evalue": "'str' object does not support item assignment",
     "output_type": "error",
     "traceback": [
      "\u001b[1;31m---------------------------------------------------------------------------\u001b[0m",
      "\u001b[1;31mTypeError\u001b[0m                                 Traceback (most recent call last)",
      "\u001b[1;32m<ipython-input-32-f45e1e7a89c3>\u001b[0m in \u001b[0;36m<module>\u001b[1;34m()\u001b[0m\n\u001b[0;32m      1\u001b[0m \u001b[0ms\u001b[0m \u001b[1;33m=\u001b[0m \u001b[1;34m\"Ball\"\u001b[0m\u001b[1;33m\u001b[0m\u001b[0m\n\u001b[1;32m----> 2\u001b[1;33m \u001b[0ms\u001b[0m\u001b[1;33m[\u001b[0m\u001b[1;36m0\u001b[0m\u001b[1;33m]\u001b[0m \u001b[1;33m=\u001b[0m \u001b[1;34m\"C\"\u001b[0m\u001b[1;33m\u001b[0m\u001b[0m\n\u001b[0m\u001b[0;32m      3\u001b[0m \u001b[0mprint\u001b[0m\u001b[1;33m(\u001b[0m\u001b[0ms\u001b[0m\u001b[1;33m)\u001b[0m\u001b[1;33m\u001b[0m\u001b[0m\n",
      "\u001b[1;31mTypeError\u001b[0m: 'str' object does not support item assignment"
     ]
    }
   ],
   "source": [
    "s = \"Ball\"\n",
    "s[0] = \"C\"\n",
    "print(s)"
   ]
  },
  {
   "cell_type": "code",
   "execution_count": 33,
   "metadata": {},
   "outputs": [],
   "source": [
    "w = ['Jamboree', 'get-together', 'party']\n",
    "y = ['celebration']\n",
    "y = w"
   ]
  },
  {
   "cell_type": "code",
   "execution_count": 34,
   "metadata": {},
   "outputs": [
    {
     "name": "stdout",
     "output_type": "stream",
     "text": [
      "[4, 2, 8, 999, 5]\n"
     ]
    }
   ],
   "source": [
    "alist = [4,2,8,6,5]\n",
    "blist = alist\n",
    "blist[3] = 999\n",
    "print(alist)\n"
   ]
  },
  {
   "cell_type": "code",
   "execution_count": 35,
   "metadata": {},
   "outputs": [
    {
     "name": "stdout",
     "output_type": "stream",
     "text": [
      "[4, 2, 8, 6, 5]\n"
     ]
    }
   ],
   "source": [
    "alist = [4,2,8,6,5]\n",
    "blist = alist * 2\n",
    "blist[3] = 999\n",
    "print(alist)"
   ]
  },
  {
   "cell_type": "code",
   "execution_count": 36,
   "metadata": {},
   "outputs": [
    {
     "name": "stdout",
     "output_type": "stream",
     "text": [
      "['q', 'i']\n"
     ]
    }
   ],
   "source": [
    "b = ['q', 'u', 'i']\n",
    "z = b\n",
    "b[1] = 'i'\n",
    "z.remove('i')\n",
    "print(z)"
   ]
  },
  {
   "cell_type": "code",
   "execution_count": 38,
   "metadata": {},
   "outputs": [
    {
     "name": "stdout",
     "output_type": "stream",
     "text": [
      "Holidays can be a fun time when you have good company! Holidays can also be fun on your own!\n"
     ]
    }
   ],
   "source": [
    "sent = \"Holidays can be a fun time when you have good company!\"\n",
    "phrase = sent\n",
    "phrase = phrase + \" Holidays can also be fun on your own!\"\n",
    "print(phrase)"
   ]
  },
  {
   "cell_type": "code",
   "execution_count": 40,
   "metadata": {},
   "outputs": [
    {
     "name": "stdout",
     "output_type": "stream",
     "text": [
      "['mercury', 'venus', 'earth']\n"
     ]
    }
   ],
   "source": [
    "lst = ['mercury', 'venus', 'earth', 'mars', 'jupiter', 'saturn', 'uranus', 'neptune', 'pluto']\n",
    "lst.remove('pluto')\n",
    "first_three = lst[:3]\n",
    "print(first_three)"
   ]
  },
  {
   "cell_type": "code",
   "execution_count": 41,
   "metadata": {},
   "outputs": [],
   "source": [
    "x = [\"dogs\", \"cats\", \"birds\", \"reptiles\"]\n",
    "y = x\n",
    "x += ['fish', 'horses']\n",
    "y = y + ['sheep']"
   ]
  },
  {
   "cell_type": "code",
   "execution_count": 42,
   "metadata": {},
   "outputs": [
    {
     "name": "stdout",
     "output_type": "stream",
     "text": [
      "The store has excellent sales right now.\n"
     ]
    }
   ],
   "source": [
    "sent = \"The mall has excellent sales right now.\"\n",
    "wrds = sent.split()\n",
    "wrds[1] = 'store'\n",
    "new_sent = \" \".join(wrds)\n",
    "print(new_sent)"
   ]
  },
  {
   "cell_type": "code",
   "execution_count": 43,
   "metadata": {},
   "outputs": [
    {
     "name": "stdout",
     "output_type": "stream",
     "text": [
      "[5, 27, 3, 12]\n",
      "[5, 12, 27, 3, 12]\n",
      "2\n",
      "3\n",
      "1\n",
      "[12, 3, 27, 12, 5]\n",
      "[3, 5, 12, 12, 27]\n",
      "[3, 12, 12, 27]\n",
      "27\n",
      "[3, 12, 12]\n"
     ]
    }
   ],
   "source": [
    "mylist = []\n",
    "mylist.append(5)\n",
    "mylist.append(27)\n",
    "mylist.append(3)\n",
    "mylist.append(12)\n",
    "print(mylist)\n",
    "\n",
    "mylist.insert(1, 12)\n",
    "print(mylist)\n",
    "print(mylist.count(12))\n",
    "\n",
    "print(mylist.index(3))\n",
    "print(mylist.count(5))\n",
    "\n",
    "mylist.reverse()\n",
    "print(mylist)\n",
    "\n",
    "mylist.sort()\n",
    "print(mylist)\n",
    "\n",
    "mylist.remove(5)\n",
    "print(mylist)\n",
    "\n",
    "lastitem = mylist.pop()\n",
    "print(lastitem)\n",
    "print(mylist)\n"
   ]
  },
  {
   "cell_type": "code",
   "execution_count": 44,
   "metadata": {},
   "outputs": [
    {
     "name": "stdout",
     "output_type": "stream",
     "text": [
      "[4, 2, 8, 6, 5, True, False]\n"
     ]
    }
   ],
   "source": [
    "alist = [4,2,8,6,5]\n",
    "alist.append(True)\n",
    "alist.append(False)\n",
    "print(alist)"
   ]
  },
  {
   "cell_type": "code",
   "execution_count": 45,
   "metadata": {},
   "outputs": [],
   "source": [
    "# Append add the element in the same list while concatenation created a new list"
   ]
  },
  {
   "cell_type": "code",
   "execution_count": 46,
   "metadata": {},
   "outputs": [
    {
     "ename": "TypeError",
     "evalue": "can only concatenate list (not \"int\") to list",
     "output_type": "error",
     "traceback": [
      "\u001b[1;31m---------------------------------------------------------------------------\u001b[0m",
      "\u001b[1;31mTypeError\u001b[0m                                 Traceback (most recent call last)",
      "\u001b[1;32m<ipython-input-46-e44ee1ab3c26>\u001b[0m in \u001b[0;36m<module>\u001b[1;34m()\u001b[0m\n\u001b[0;32m      1\u001b[0m \u001b[0malist\u001b[0m \u001b[1;33m=\u001b[0m \u001b[1;33m[\u001b[0m\u001b[1;36m4\u001b[0m\u001b[1;33m,\u001b[0m\u001b[1;36m2\u001b[0m\u001b[1;33m,\u001b[0m\u001b[1;36m8\u001b[0m\u001b[1;33m,\u001b[0m\u001b[1;36m6\u001b[0m\u001b[1;33m,\u001b[0m\u001b[1;36m5\u001b[0m\u001b[1;33m]\u001b[0m\u001b[1;33m\u001b[0m\u001b[0m\n\u001b[1;32m----> 2\u001b[1;33m \u001b[0malist\u001b[0m \u001b[1;33m=\u001b[0m \u001b[0malist\u001b[0m \u001b[1;33m+\u001b[0m \u001b[1;36m999\u001b[0m\u001b[1;33m\u001b[0m\u001b[0m\n\u001b[0m\u001b[0;32m      3\u001b[0m \u001b[0mprint\u001b[0m\u001b[1;33m(\u001b[0m\u001b[0malist\u001b[0m\u001b[1;33m)\u001b[0m\u001b[1;33m\u001b[0m\u001b[0m\n",
      "\u001b[1;31mTypeError\u001b[0m: can only concatenate list (not \"int\") to list"
     ]
    }
   ],
   "source": [
    "alist = [4,2,8,6,5]\n",
    "alist = alist + 999\n",
    "print(alist)"
   ]
  },
  {
   "cell_type": "code",
   "execution_count": 47,
   "metadata": {},
   "outputs": [
    {
     "name": "stdout",
     "output_type": "stream",
     "text": [
      "3\n"
     ]
    }
   ],
   "source": [
    "s = \"python rocks\"\n",
    "print(s.count(\"o\") + s.count(\"p\"))"
   ]
  },
  {
   "cell_type": "code",
   "execution_count": 48,
   "metadata": {},
   "outputs": [
    {
     "name": "stdout",
     "output_type": "stream",
     "text": [
      "yyyyy\n"
     ]
    }
   ],
   "source": [
    "s = \"python rocks\"\n",
    "print(s[1]*s.index(\"n\"))"
   ]
  },
  {
   "cell_type": "code",
   "execution_count": 49,
   "metadata": {},
   "outputs": [
    {
     "name": "stdout",
     "output_type": "stream",
     "text": [
      "sum of 2 and 6 is 8; product: 12.\n"
     ]
    }
   ],
   "source": [
    "x = 2\n",
    "y = 6\n",
    "print('sum of {} and {} is {}; product: {}.'.format( x, y, x+y, x*y))"
   ]
  },
  {
   "cell_type": "code",
   "execution_count": 50,
   "metadata": {},
   "outputs": [
    {
     "name": "stdout",
     "output_type": "stream",
     "text": [
      "2.3 2.35 2.3456700\n"
     ]
    }
   ],
   "source": [
    "v = 2.34567\n",
    "print('{:.1f} {:.2f} {:.7f}'.format(v, v, v))"
   ]
  },
  {
   "cell_type": "code",
   "execution_count": 51,
   "metadata": {},
   "outputs": [
    {
     "name": "stdout",
     "output_type": "stream",
     "text": [
      "Hello Rodney Dangerfield. Your score is -1.\n",
      "Hello Marlon Brando. Your score is 1.\n",
      "Hello You. Your score is 100.\n"
     ]
    }
   ],
   "source": [
    "scores = [(\"Rodney Dangerfield\", -1), (\"Marlon Brando\", 1), (\"You\", 100)]\n",
    "for person in scores:\n",
    "    name = person[0]\n",
    "    score = person[1]\n",
    "    print(\"Hello {}. Your score is {}.\".format(name, score))"
   ]
  },
  {
   "cell_type": "code",
   "execution_count": 52,
   "metadata": {},
   "outputs": [
    {
     "name": "stdout",
     "output_type": "stream",
     "text": [
      "[9]\n",
      "[9, 25]\n",
      "[9, 25, 64]\n"
     ]
    }
   ],
   "source": [
    "nums = [3,5,8]\n",
    "accum = []\n",
    "for w in nums:\n",
    "    x = w**2\n",
    "    accum.append(x)\n",
    "    print(accum)"
   ]
  },
  {
   "cell_type": "code",
   "execution_count": 53,
   "metadata": {},
   "outputs": [
    {
     "name": "stdout",
     "output_type": "stream",
     "text": [
      "[8, 5, 14, 9, 6, 12]\n"
     ]
    }
   ],
   "source": [
    "lst= [3,0,9,4,1,7]\n",
    "new_list=[]\n",
    "for i in range(len(lst)):\n",
    "   new_list.append(lst[i]+5)\n",
    "print(new_list)"
   ]
  },
  {
   "cell_type": "code",
   "execution_count": 54,
   "metadata": {},
   "outputs": [
    {
     "name": "stdout",
     "output_type": "stream",
     "text": [
      "['kayaking', 'crying', 'walking', 'eating', 'drinking', 'flying']\n"
     ]
    }
   ],
   "source": [
    "verbs = [\"kayak\", \"cry\", \"walk\", \"eat\", \"drink\", \"fly\"]\n",
    "ing=[]\n",
    "for i in range(len(verbs)):\n",
    "   ing.append(verbs[i]+'ing')\n",
    "print(ing)"
   ]
  },
  {
   "cell_type": "code",
   "execution_count": null,
   "metadata": {},
   "outputs": [],
   "source": [
    "\n"
   ]
  },
  {
   "cell_type": "code",
   "execution_count": 67,
   "metadata": {},
   "outputs": [
    {
     "name": "stdout",
     "output_type": "stream",
     "text": [
      "[10, 15, 20, 25, 30]\n"
     ]
    }
   ],
   "source": [
    "numbs = [5, 10, 15, 20, 25]\n",
    "for i in range(len(numbs)):\n",
    "    numbs[i] = numbs[i] + 5\n",
    "print(numbs)\n",
    "\n"
   ]
  },
  {
   "cell_type": "code",
   "execution_count": 68,
   "metadata": {},
   "outputs": [
    {
     "name": "stdout",
     "output_type": "stream",
     "text": [
      "Enter some textvivekk\n",
      "v-v-i-i-v-v-e-e-k-k-k-k-\n"
     ]
    }
   ],
   "source": [
    "s = input(\"Enter some text\")\n",
    "ac = \"\"\n",
    "for c in s:\n",
    "    ac = ac + c + \"-\" + c + \"-\"\n",
    "\n",
    "print(ac)\n"
   ]
  },
  {
   "cell_type": "code",
   "execution_count": 69,
   "metadata": {},
   "outputs": [
    {
     "name": "stdout",
     "output_type": "stream",
     "text": [
      "LLAB\n"
     ]
    }
   ],
   "source": [
    "s = \"ball\"\n",
    "r = \"\"\n",
    "for item in s:\n",
    "   r = item.upper() + r\n",
    "print(r)"
   ]
  },
  {
   "cell_type": "code",
   "execution_count": 79,
   "metadata": {},
   "outputs": [
    {
     "name": "stdout",
     "output_type": "stream",
     "text": [
      "['I', ' ', 'l', 'o', 'v', 'e', ' ', 'p', 'y', 't', 'h', 'o', 'n']\n"
     ]
    }
   ],
   "source": [
    "str1 = \"I love python\"\n",
    "# HINT: what's the accumulator? That should go here.\n",
    "chars = []\n",
    "for i in str1:\n",
    "    chars.append(i)\n",
    "    \n",
    "print(chars)"
   ]
  },
  {
   "cell_type": "code",
   "execution_count": 76,
   "metadata": {},
   "outputs": [
    {
     "name": "stdout",
     "output_type": "stream",
     "text": [
      "['holiday', 'celebrate!', 'company']\n"
     ]
    }
   ],
   "source": [
    "a = [\"holiday\", \"celebrate!\"]\n",
    "quiet = a\n",
    "quiet.append(\"company\")\n",
    "print(a)"
   ]
  },
  {
   "cell_type": "code",
   "execution_count": 94,
   "metadata": {},
   "outputs": [
    {
     "name": "stdout",
     "output_type": "stream",
     "text": [
      "67\n"
     ]
    },
    {
     "ename": "TypeError",
     "evalue": "string indices must be integers",
     "output_type": "error",
     "traceback": [
      "\u001b[1;31m---------------------------------------------------------------------------\u001b[0m",
      "\u001b[1;31mTypeError\u001b[0m                                 Traceback (most recent call last)",
      "\u001b[1;32m<ipython-input-94-4e89379bb95a>\u001b[0m in \u001b[0;36m<module>\u001b[1;34m()\u001b[0m\n\u001b[0;32m      4\u001b[0m \u001b[1;32mfor\u001b[0m \u001b[0mscore\u001b[0m \u001b[1;32min\u001b[0m \u001b[0mscores1\u001b[0m\u001b[1;33m:\u001b[0m\u001b[1;33m\u001b[0m\u001b[0m\n\u001b[0;32m      5\u001b[0m     \u001b[0mprint\u001b[0m\u001b[1;33m(\u001b[0m\u001b[0mscore\u001b[0m\u001b[1;33m)\u001b[0m\u001b[1;33m\u001b[0m\u001b[0m\n\u001b[1;32m----> 6\u001b[1;33m     \u001b[0mscore\u001b[0m\u001b[1;33m[\u001b[0m\u001b[0mi\u001b[0m\u001b[1;33m]\u001b[0m \u001b[1;33m>=\u001b[0m \u001b[1;36m90\u001b[0m\u001b[1;33m\u001b[0m\u001b[0m\n\u001b[0m\u001b[0;32m      7\u001b[0m     \u001b[0ma_scores\u001b[0m\u001b[1;33m.\u001b[0m\u001b[0mappend\u001b[0m\u001b[1;33m(\u001b[0m\u001b[0mscore\u001b[0m\u001b[1;33m)\u001b[0m\u001b[1;33m\u001b[0m\u001b[0m\n\u001b[0;32m      8\u001b[0m \u001b[1;33m\u001b[0m\u001b[0m\n",
      "\u001b[1;31mTypeError\u001b[0m: string indices must be integers"
     ]
    }
   ],
   "source": [
    "scores = \"67 80 90 78 93 20 79 89 96 97 92 88 79 68 58 90 98 100 79 74 83 88 80 86 85 70 90 100\"\n",
    "scores1 = scores.split(' ')\n",
    "a_scores = []\n",
    "for score in scores1:\n",
    "    print(score)\n",
    "    score[i] >= 90\n",
    "    a_scores.append(score)\n",
    "    \n",
    "\n",
    "    \n",
    "    \n",
    "\n"
   ]
  },
  {
   "cell_type": "code",
   "execution_count": 96,
   "metadata": {},
   "outputs": [
    {
     "name": "stdout",
     "output_type": "stream",
     "text": [
      "shoes, 12, 29.99\n",
      "The store has h shoes, 12, 29.99, each for o USD.\n",
      "shirts, 20, 9.99\n",
      "The store has h shirts, 20, 9.99, each for i USD.\n",
      "sweatpants, 25, 15.00\n",
      "The store has w sweatpants, 25, 15.00, each for e USD.\n",
      "scarves, 13, 7.75\n",
      "The store has c scarves, 13, 7.75, each for a USD.\n"
     ]
    }
   ],
   "source": [
    "inventory = [\"shoes, 12, 29.99\", \"shirts, 20, 9.99\", \"sweatpants, 25, 15.00\", \"scarves, 13, 7.75\"]\n",
    "\n",
    "for person in inventory:\n",
    "    print(person)\n",
    "    stock = person[1]\n",
    "    name = person\n",
    "    cost = person[2]\n",
    "    print(\"The store has {} {}, each for {} USD.\".format(stock,name,cost ))\n"
   ]
  },
  {
   "cell_type": "code",
   "execution_count": 100,
   "metadata": {},
   "outputs": [
    {
     "name": "stdout",
     "output_type": "stream",
     "text": [
      "was it a car or a cat I saw\n",
      "None\n"
     ]
    }
   ],
   "source": [
    "p_phrase = \"was it a car or a cat I saw\"\n",
    "\n"
   ]
  },
  {
   "cell_type": "code",
   "execution_count": 101,
   "metadata": {},
   "outputs": [
    {
     "data": {
      "text/plain": [
       "'1,2,3'"
      ]
     },
     "execution_count": 101,
     "metadata": {},
     "output_type": "execute_result"
    }
   ],
   "source": [
    "\"1,2,3,\".strip(\",\")"
   ]
  },
  {
   "cell_type": "code",
   "execution_count": 102,
   "metadata": {},
   "outputs": [
    {
     "name": "stdout",
     "output_type": "stream",
     "text": [
      "WA.EA.AI.AR.VI\n"
     ]
    }
   ],
   "source": [
    "stopwords = ['to', 'a', 'for', 'by', 'an', 'am', 'the', 'so', 'it', 'and', 'The']\n",
    "sent = \"The water earth and air are vital\"\n",
    "sent_lst=sent.split(\" \")\n",
    "\n",
    "acro=\"\"\n",
    "\n",
    "for word in sent_lst:\n",
    "    if word ==sent_lst[-1]:\n",
    "        acro=acro+str.upper(word[0])+str.upper(word[1])\n",
    "    elif word not in stopwords:\n",
    "        acro=acro+str.upper(word[0])+str.upper(word[1])+\".\"\n",
    "\n",
    "print(acro)"
   ]
  },
  {
   "cell_type": "code",
   "execution_count": null,
   "metadata": {},
   "outputs": [],
   "source": []
  }
 ],
 "metadata": {
  "kernelspec": {
   "display_name": "Python 3",
   "language": "python",
   "name": "python3"
  },
  "language_info": {
   "codemirror_mode": {
    "name": "ipython",
    "version": 3
   },
   "file_extension": ".py",
   "mimetype": "text/x-python",
   "name": "python",
   "nbconvert_exporter": "python",
   "pygments_lexer": "ipython3",
   "version": "3.6.4"
  }
 },
 "nbformat": 4,
 "nbformat_minor": 2
}
